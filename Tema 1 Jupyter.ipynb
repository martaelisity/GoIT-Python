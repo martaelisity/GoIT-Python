{
 "cells": [
  {
   "cell_type": "markdown",
   "id": "9d8af64c-fef4-4421-9287-4c683902a6a3",
   "metadata": {},
   "source": [
    "# Tema 1"
   ]
  },
  {
   "cell_type": "code",
   "execution_count": 17,
   "id": "9da107d8-3609-476e-a5e1-d49aa4a90d92",
   "metadata": {},
   "outputs": [],
   "source": [
    "import pandas as pd"
   ]
  },
  {
   "cell_type": "code",
   "execution_count": 18,
   "id": "3eae7329-7f49-406c-8eef-0396398a5977",
   "metadata": {},
   "outputs": [],
   "source": [
    "dataset = pd.read_csv('D:\\Documents\\GO.IT\\stack-overflow-developer-survey-2023\\survey_results_public.csv')"
   ]
  },
  {
   "cell_type": "markdown",
   "id": "7a4c14e5-e629-4cc6-a3da-fb6ea6160ce6",
   "metadata": {},
   "source": [
    "1. Câți respondenți au completat sondajul?"
   ]
  },
  {
   "cell_type": "code",
   "execution_count": 68,
   "id": "ee79f0a8-b6c3-4c8c-b436-72ea43026165",
   "metadata": {},
   "outputs": [],
   "source": [
    "response_number = dataset['ResponseId'].nunique()"
   ]
  },
  {
   "cell_type": "code",
   "execution_count": 69,
   "id": "48687671-2b24-4e00-80b4-c4b08572599b",
   "metadata": {},
   "outputs": [
    {
     "data": {
      "text/plain": [
       "89184"
      ]
     },
     "execution_count": 69,
     "metadata": {},
     "output_type": "execute_result"
    }
   ],
   "source": [
    "response_number"
   ]
  },
  {
   "cell_type": "markdown",
   "id": "640f4ee7-5681-4b05-892e-dce1e3b2e754",
   "metadata": {},
   "source": [
    "2. Câți respondenți au răspuns la toate întrebările?"
   ]
  },
  {
   "cell_type": "code",
   "execution_count": 70,
   "id": "2f19d3c3-e1f1-4f9e-bf1f-89aa453c46c0",
   "metadata": {},
   "outputs": [],
   "source": [
    "complete_response_rows = dataset.notna().all(axis=1)"
   ]
  },
  {
   "cell_type": "code",
   "execution_count": 71,
   "id": "915931d3-b61a-44dd-ad1b-5bc435a80e78",
   "metadata": {},
   "outputs": [
    {
     "data": {
      "text/plain": [
       "0        False\n",
       "1        False\n",
       "2        False\n",
       "3        False\n",
       "4        False\n",
       "         ...  \n",
       "89179    False\n",
       "89180    False\n",
       "89181    False\n",
       "89182    False\n",
       "89183    False\n",
       "Length: 89184, dtype: bool"
      ]
     },
     "execution_count": 71,
     "metadata": {},
     "output_type": "execute_result"
    }
   ],
   "source": [
    "complete_response_rows"
   ]
  },
  {
   "cell_type": "code",
   "execution_count": 35,
   "id": "6aedcf02-3fab-4539-8803-00d6199a7e74",
   "metadata": {},
   "outputs": [],
   "source": [
    "count_complete_rows = complete_response_rows.sum()"
   ]
  },
  {
   "cell_type": "code",
   "execution_count": 36,
   "id": "ea9c2378-e071-47e7-9281-44b57a1a4be2",
   "metadata": {},
   "outputs": [
    {
     "data": {
      "text/plain": [
       "0"
      ]
     },
     "execution_count": 36,
     "metadata": {},
     "output_type": "execute_result"
    }
   ],
   "source": [
    "count_complete_rows"
   ]
  },
  {
   "cell_type": "markdown",
   "id": "ea1fd3ae-64d1-4125-8277-b24dcfecdcab",
   "metadata": {},
   "source": [
    "3. Care sunt valorile măsurilor de tendință centrală pentru experiența respondenților (WorkExp)?"
   ]
  },
  {
   "cell_type": "code",
   "execution_count": 39,
   "id": "e77bfab2-6035-486d-bf2b-f989d5ce227f",
   "metadata": {},
   "outputs": [],
   "source": [
    "workexp_mean = dataset['WorkExp'].mean(axis=0, skipna=True)"
   ]
  },
  {
   "cell_type": "code",
   "execution_count": 40,
   "id": "bea2f3c8-0139-4187-a7bc-62ba13cbec62",
   "metadata": {},
   "outputs": [
    {
     "data": {
      "text/plain": [
       "11.405126322311204"
      ]
     },
     "execution_count": 40,
     "metadata": {},
     "output_type": "execute_result"
    }
   ],
   "source": [
    "workexp_mean"
   ]
  },
  {
   "cell_type": "markdown",
   "id": "30068657-2f13-4dde-a32f-28c668a997eb",
   "metadata": {},
   "source": [
    "4. Câți respondenți lucrează de la distanță?"
   ]
  },
  {
   "cell_type": "code",
   "execution_count": 60,
   "id": "8c373b82-df19-4a0f-9401-84ef74dbde09",
   "metadata": {},
   "outputs": [],
   "source": [
    "remote_count = dataset.loc[dataset['RemoteWork'] == 'Remote'].shape[0]"
   ]
  },
  {
   "cell_type": "code",
   "execution_count": 61,
   "id": "9e248b8e-cdaf-4736-96eb-77b06573bd24",
   "metadata": {},
   "outputs": [
    {
     "data": {
      "text/plain": [
       "30566"
      ]
     },
     "execution_count": 61,
     "metadata": {},
     "output_type": "execute_result"
    }
   ],
   "source": [
    "remote_count"
   ]
  },
  {
   "cell_type": "markdown",
   "id": "ad1e15da-1cc9-42dc-91fe-c01eb253e28b",
   "metadata": {},
   "source": [
    "5. Ce procent de respondenți programează în Python?"
   ]
  },
  {
   "cell_type": "code",
   "execution_count": 62,
   "id": "4fb76909-cc32-45bb-8e45-f6eda4ffcc38",
   "metadata": {},
   "outputs": [],
   "source": [
    "python_users = dataset['LanguageHaveWorkedWith'].str.contains('Python', na=False)"
   ]
  },
  {
   "cell_type": "code",
   "execution_count": 63,
   "id": "3e5a6c1d-312f-4a6d-82f1-ab1294ce96bf",
   "metadata": {},
   "outputs": [
    {
     "data": {
      "text/plain": [
       "0        False\n",
       "1         True\n",
       "2        False\n",
       "3        False\n",
       "4        False\n",
       "         ...  \n",
       "89179    False\n",
       "89180     True\n",
       "89181     True\n",
       "89182     True\n",
       "89183    False\n",
       "Name: LanguageHaveWorkedWith, Length: 89184, dtype: bool"
      ]
     },
     "execution_count": 63,
     "metadata": {},
     "output_type": "execute_result"
    }
   ],
   "source": [
    "python_users"
   ]
  },
  {
   "cell_type": "code",
   "execution_count": 69,
   "id": "681d48b2-6d04-4ab1-8051-0f5f72f2aed5",
   "metadata": {},
   "outputs": [],
   "source": [
    "python_users_count = python_users.sum()"
   ]
  },
  {
   "cell_type": "code",
   "execution_count": 70,
   "id": "888dbc11-36fc-4ac0-9e3d-c7e79783be33",
   "metadata": {},
   "outputs": [
    {
     "data": {
      "text/plain": [
       "43158"
      ]
     },
     "execution_count": 70,
     "metadata": {},
     "output_type": "execute_result"
    }
   ],
   "source": [
    "python_users_count"
   ]
  },
  {
   "cell_type": "code",
   "execution_count": 71,
   "id": "24eb7f95-6996-45cf-854b-77109fc0e905",
   "metadata": {},
   "outputs": [],
   "source": [
    "python_user_percentage = (python_users_count / response_number) * 100"
   ]
  },
  {
   "cell_type": "code",
   "execution_count": 76,
   "id": "aca7e510-a6b8-4b17-bd9f-34edcf965864",
   "metadata": {},
   "outputs": [
    {
     "data": {
      "text/plain": [
       "48.392088266953714"
      ]
     },
     "execution_count": 76,
     "metadata": {},
     "output_type": "execute_result"
    }
   ],
   "source": [
    "python_user_percentage"
   ]
  },
  {
   "cell_type": "markdown",
   "id": "494ce58b-a590-4b1c-87ac-69c7378f6b2c",
   "metadata": {},
   "source": [
    "6. Câți respondenți au învățat să programeze prin cursuri online?"
   ]
  },
  {
   "cell_type": "code",
   "execution_count": 22,
   "id": "601031ab-a747-4e90-98dd-c25739057142",
   "metadata": {},
   "outputs": [],
   "source": [
    "online_learners = dataset[dataset['LearnCodeOnline'].notna()]"
   ]
  },
  {
   "cell_type": "code",
   "execution_count": 26,
   "id": "9371b435-b9b7-429a-be41-6708dbb1d851",
   "metadata": {},
   "outputs": [
    {
     "data": {
      "text/html": [
       "<div>\n",
       "<style scoped>\n",
       "    .dataframe tbody tr th:only-of-type {\n",
       "        vertical-align: middle;\n",
       "    }\n",
       "\n",
       "    .dataframe tbody tr th {\n",
       "        vertical-align: top;\n",
       "    }\n",
       "\n",
       "    .dataframe thead th {\n",
       "        text-align: right;\n",
       "    }\n",
       "</style>\n",
       "<table border=\"1\" class=\"dataframe\">\n",
       "  <thead>\n",
       "    <tr style=\"text-align: right;\">\n",
       "      <th></th>\n",
       "      <th>ResponseId</th>\n",
       "      <th>Q120</th>\n",
       "      <th>MainBranch</th>\n",
       "      <th>Age</th>\n",
       "      <th>Employment</th>\n",
       "      <th>RemoteWork</th>\n",
       "      <th>CodingActivities</th>\n",
       "      <th>EdLevel</th>\n",
       "      <th>LearnCode</th>\n",
       "      <th>LearnCodeOnline</th>\n",
       "      <th>...</th>\n",
       "      <th>Frequency_1</th>\n",
       "      <th>Frequency_2</th>\n",
       "      <th>Frequency_3</th>\n",
       "      <th>TimeSearching</th>\n",
       "      <th>TimeAnswering</th>\n",
       "      <th>ProfessionalTech</th>\n",
       "      <th>Industry</th>\n",
       "      <th>SurveyLength</th>\n",
       "      <th>SurveyEase</th>\n",
       "      <th>ConvertedCompYearly</th>\n",
       "    </tr>\n",
       "  </thead>\n",
       "  <tbody>\n",
       "    <tr>\n",
       "      <th>1</th>\n",
       "      <td>2</td>\n",
       "      <td>I agree</td>\n",
       "      <td>I am a developer by profession</td>\n",
       "      <td>25-34 years old</td>\n",
       "      <td>Employed, full-time</td>\n",
       "      <td>Remote</td>\n",
       "      <td>Hobby;Contribute to open-source projects;Boots...</td>\n",
       "      <td>Bachelor’s degree (B.A., B.S., B.Eng., etc.)</td>\n",
       "      <td>Books / Physical media;Colleague;Friend or fam...</td>\n",
       "      <td>Formal documentation provided by the owner of ...</td>\n",
       "      <td>...</td>\n",
       "      <td>1-2 times a week</td>\n",
       "      <td>10+ times a week</td>\n",
       "      <td>Never</td>\n",
       "      <td>15-30 minutes a day</td>\n",
       "      <td>15-30 minutes a day</td>\n",
       "      <td>DevOps function;Microservices;Automated testin...</td>\n",
       "      <td>Information Services, IT, Software Development...</td>\n",
       "      <td>Appropriate in length</td>\n",
       "      <td>Easy</td>\n",
       "      <td>285000.0</td>\n",
       "    </tr>\n",
       "    <tr>\n",
       "      <th>2</th>\n",
       "      <td>3</td>\n",
       "      <td>I agree</td>\n",
       "      <td>I am a developer by profession</td>\n",
       "      <td>45-54 years old</td>\n",
       "      <td>Employed, full-time</td>\n",
       "      <td>Hybrid (some remote, some in-person)</td>\n",
       "      <td>Hobby;Professional development or self-paced l...</td>\n",
       "      <td>Bachelor’s degree (B.A., B.S., B.Eng., etc.)</td>\n",
       "      <td>Books / Physical media;Colleague;On the job tr...</td>\n",
       "      <td>Formal documentation provided by the owner of ...</td>\n",
       "      <td>...</td>\n",
       "      <td>6-10 times a week</td>\n",
       "      <td>6-10 times a week</td>\n",
       "      <td>3-5 times a week</td>\n",
       "      <td>30-60 minutes a day</td>\n",
       "      <td>30-60 minutes a day</td>\n",
       "      <td>DevOps function;Microservices;Automated testin...</td>\n",
       "      <td>Information Services, IT, Software Development...</td>\n",
       "      <td>Appropriate in length</td>\n",
       "      <td>Easy</td>\n",
       "      <td>250000.0</td>\n",
       "    </tr>\n",
       "    <tr>\n",
       "      <th>3</th>\n",
       "      <td>4</td>\n",
       "      <td>I agree</td>\n",
       "      <td>I am a developer by profession</td>\n",
       "      <td>25-34 years old</td>\n",
       "      <td>Employed, full-time</td>\n",
       "      <td>Hybrid (some remote, some in-person)</td>\n",
       "      <td>Hobby</td>\n",
       "      <td>Bachelor’s degree (B.A., B.S., B.Eng., etc.)</td>\n",
       "      <td>Colleague;Friend or family member;Other online...</td>\n",
       "      <td>Formal documentation provided by the owner of ...</td>\n",
       "      <td>...</td>\n",
       "      <td>1-2 times a week</td>\n",
       "      <td>10+ times a week</td>\n",
       "      <td>1-2 times a week</td>\n",
       "      <td>15-30 minutes a day</td>\n",
       "      <td>30-60 minutes a day</td>\n",
       "      <td>Automated testing;Continuous integration (CI) ...</td>\n",
       "      <td>NaN</td>\n",
       "      <td>Appropriate in length</td>\n",
       "      <td>Easy</td>\n",
       "      <td>156000.0</td>\n",
       "    </tr>\n",
       "    <tr>\n",
       "      <th>4</th>\n",
       "      <td>5</td>\n",
       "      <td>I agree</td>\n",
       "      <td>I am a developer by profession</td>\n",
       "      <td>25-34 years old</td>\n",
       "      <td>Employed, full-time;Independent contractor, fr...</td>\n",
       "      <td>Remote</td>\n",
       "      <td>Hobby;Contribute to open-source projects;Profe...</td>\n",
       "      <td>Bachelor’s degree (B.A., B.S., B.Eng., etc.)</td>\n",
       "      <td>Books / Physical media;Online Courses or Certi...</td>\n",
       "      <td>Formal documentation provided by the owner of ...</td>\n",
       "      <td>...</td>\n",
       "      <td>1-2 times a week</td>\n",
       "      <td>1-2 times a week</td>\n",
       "      <td>3-5 times a week</td>\n",
       "      <td>60-120 minutes a day</td>\n",
       "      <td>30-60 minutes a day</td>\n",
       "      <td>Microservices;Automated testing;Observability ...</td>\n",
       "      <td>Other</td>\n",
       "      <td>Appropriate in length</td>\n",
       "      <td>Neither easy nor difficult</td>\n",
       "      <td>23456.0</td>\n",
       "    </tr>\n",
       "    <tr>\n",
       "      <th>5</th>\n",
       "      <td>6</td>\n",
       "      <td>I agree</td>\n",
       "      <td>I am a developer by profession</td>\n",
       "      <td>35-44 years old</td>\n",
       "      <td>Employed, full-time</td>\n",
       "      <td>Remote</td>\n",
       "      <td>Hobby;Professional development or self-paced l...</td>\n",
       "      <td>Some college/university study without earning ...</td>\n",
       "      <td>Books / Physical media;Colleague;Online Course...</td>\n",
       "      <td>Formal documentation provided by the owner of ...</td>\n",
       "      <td>...</td>\n",
       "      <td>1-2 times a week</td>\n",
       "      <td>1-2 times a week</td>\n",
       "      <td>3-5 times a week</td>\n",
       "      <td>30-60 minutes a day</td>\n",
       "      <td>15-30 minutes a day</td>\n",
       "      <td>DevOps function;Microservices;Observability to...</td>\n",
       "      <td>Other</td>\n",
       "      <td>Appropriate in length</td>\n",
       "      <td>Neither easy nor difficult</td>\n",
       "      <td>96828.0</td>\n",
       "    </tr>\n",
       "    <tr>\n",
       "      <th>...</th>\n",
       "      <td>...</td>\n",
       "      <td>...</td>\n",
       "      <td>...</td>\n",
       "      <td>...</td>\n",
       "      <td>...</td>\n",
       "      <td>...</td>\n",
       "      <td>...</td>\n",
       "      <td>...</td>\n",
       "      <td>...</td>\n",
       "      <td>...</td>\n",
       "      <td>...</td>\n",
       "      <td>...</td>\n",
       "      <td>...</td>\n",
       "      <td>...</td>\n",
       "      <td>...</td>\n",
       "      <td>...</td>\n",
       "      <td>...</td>\n",
       "      <td>...</td>\n",
       "      <td>...</td>\n",
       "      <td>...</td>\n",
       "      <td>...</td>\n",
       "    </tr>\n",
       "    <tr>\n",
       "      <th>89178</th>\n",
       "      <td>89179</td>\n",
       "      <td>I agree</td>\n",
       "      <td>I am a developer by profession</td>\n",
       "      <td>45-54 years old</td>\n",
       "      <td>Employed, full-time</td>\n",
       "      <td>Remote</td>\n",
       "      <td>Hobby</td>\n",
       "      <td>Bachelor’s degree (B.A., B.S., B.Eng., etc.)</td>\n",
       "      <td>Online Courses or Certification;On the job tra...</td>\n",
       "      <td>Formal documentation provided by the owner of ...</td>\n",
       "      <td>...</td>\n",
       "      <td>1-2 times a week</td>\n",
       "      <td>1-2 times a week</td>\n",
       "      <td>1-2 times a week</td>\n",
       "      <td>15-30 minutes a day</td>\n",
       "      <td>60-120 minutes a day</td>\n",
       "      <td>DevOps function;Microservices;Automated testin...</td>\n",
       "      <td>Insurance</td>\n",
       "      <td>Appropriate in length</td>\n",
       "      <td>Easy</td>\n",
       "      <td>NaN</td>\n",
       "    </tr>\n",
       "    <tr>\n",
       "      <th>89179</th>\n",
       "      <td>89180</td>\n",
       "      <td>I agree</td>\n",
       "      <td>I am a developer by profession</td>\n",
       "      <td>25-34 years old</td>\n",
       "      <td>Employed, full-time;Independent contractor, fr...</td>\n",
       "      <td>Remote</td>\n",
       "      <td>Hobby;Bootstrapping a business;Freelance/contr...</td>\n",
       "      <td>Associate degree (A.A., A.S., etc.)</td>\n",
       "      <td>Online Courses or Certification;Other online r...</td>\n",
       "      <td>Formal documentation provided by the owner of ...</td>\n",
       "      <td>...</td>\n",
       "      <td>NaN</td>\n",
       "      <td>NaN</td>\n",
       "      <td>NaN</td>\n",
       "      <td>NaN</td>\n",
       "      <td>NaN</td>\n",
       "      <td>NaN</td>\n",
       "      <td>NaN</td>\n",
       "      <td>Too long</td>\n",
       "      <td>Neither easy nor difficult</td>\n",
       "      <td>NaN</td>\n",
       "    </tr>\n",
       "    <tr>\n",
       "      <th>89180</th>\n",
       "      <td>89181</td>\n",
       "      <td>I agree</td>\n",
       "      <td>I am a developer by profession</td>\n",
       "      <td>18-24 years old</td>\n",
       "      <td>Student, full-time;Employed, part-time</td>\n",
       "      <td>Hybrid (some remote, some in-person)</td>\n",
       "      <td>School or academic work</td>\n",
       "      <td>Bachelor’s degree (B.A., B.S., B.Eng., etc.)</td>\n",
       "      <td>Colleague;Online Courses or Certification;Othe...</td>\n",
       "      <td>Formal documentation provided by the owner of ...</td>\n",
       "      <td>...</td>\n",
       "      <td>NaN</td>\n",
       "      <td>NaN</td>\n",
       "      <td>NaN</td>\n",
       "      <td>NaN</td>\n",
       "      <td>NaN</td>\n",
       "      <td>NaN</td>\n",
       "      <td>NaN</td>\n",
       "      <td>Too long</td>\n",
       "      <td>Easy</td>\n",
       "      <td>NaN</td>\n",
       "    </tr>\n",
       "    <tr>\n",
       "      <th>89182</th>\n",
       "      <td>89183</td>\n",
       "      <td>I agree</td>\n",
       "      <td>I am a developer by profession</td>\n",
       "      <td>Under 18 years old</td>\n",
       "      <td>Employed, part-time;Student, part-time</td>\n",
       "      <td>Hybrid (some remote, some in-person)</td>\n",
       "      <td>Hobby;School or academic work</td>\n",
       "      <td>Secondary school (e.g. American high school, G...</td>\n",
       "      <td>Online Courses or Certification;Other online r...</td>\n",
       "      <td>Formal documentation provided by the owner of ...</td>\n",
       "      <td>...</td>\n",
       "      <td>NaN</td>\n",
       "      <td>NaN</td>\n",
       "      <td>NaN</td>\n",
       "      <td>NaN</td>\n",
       "      <td>NaN</td>\n",
       "      <td>NaN</td>\n",
       "      <td>NaN</td>\n",
       "      <td>Appropriate in length</td>\n",
       "      <td>Neither easy nor difficult</td>\n",
       "      <td>NaN</td>\n",
       "    </tr>\n",
       "    <tr>\n",
       "      <th>89183</th>\n",
       "      <td>89184</td>\n",
       "      <td>I agree</td>\n",
       "      <td>I am a developer by profession</td>\n",
       "      <td>35-44 years old</td>\n",
       "      <td>Employed, full-time</td>\n",
       "      <td>Hybrid (some remote, some in-person)</td>\n",
       "      <td>Hobby;Professional development or self-paced l...</td>\n",
       "      <td>Bachelor’s degree (B.A., B.S., B.Eng., etc.)</td>\n",
       "      <td>Colleague;Online Courses or Certification;Othe...</td>\n",
       "      <td>Formal documentation provided by the owner of ...</td>\n",
       "      <td>...</td>\n",
       "      <td>Never</td>\n",
       "      <td>1-2 times a week</td>\n",
       "      <td>1-2 times a week</td>\n",
       "      <td>60-120 minutes a day</td>\n",
       "      <td>30-60 minutes a day</td>\n",
       "      <td>DevOps function;Developer portal or other cent...</td>\n",
       "      <td>Information Services, IT, Software Development...</td>\n",
       "      <td>Appropriate in length</td>\n",
       "      <td>Easy</td>\n",
       "      <td>NaN</td>\n",
       "    </tr>\n",
       "  </tbody>\n",
       "</table>\n",
       "<p>70084 rows × 84 columns</p>\n",
       "</div>"
      ],
      "text/plain": [
       "       ResponseId     Q120                      MainBranch  \\\n",
       "1               2  I agree  I am a developer by profession   \n",
       "2               3  I agree  I am a developer by profession   \n",
       "3               4  I agree  I am a developer by profession   \n",
       "4               5  I agree  I am a developer by profession   \n",
       "5               6  I agree  I am a developer by profession   \n",
       "...           ...      ...                             ...   \n",
       "89178       89179  I agree  I am a developer by profession   \n",
       "89179       89180  I agree  I am a developer by profession   \n",
       "89180       89181  I agree  I am a developer by profession   \n",
       "89182       89183  I agree  I am a developer by profession   \n",
       "89183       89184  I agree  I am a developer by profession   \n",
       "\n",
       "                      Age                                         Employment  \\\n",
       "1         25-34 years old                                Employed, full-time   \n",
       "2         45-54 years old                                Employed, full-time   \n",
       "3         25-34 years old                                Employed, full-time   \n",
       "4         25-34 years old  Employed, full-time;Independent contractor, fr...   \n",
       "5         35-44 years old                                Employed, full-time   \n",
       "...                   ...                                                ...   \n",
       "89178     45-54 years old                                Employed, full-time   \n",
       "89179     25-34 years old  Employed, full-time;Independent contractor, fr...   \n",
       "89180     18-24 years old             Student, full-time;Employed, part-time   \n",
       "89182  Under 18 years old             Employed, part-time;Student, part-time   \n",
       "89183     35-44 years old                                Employed, full-time   \n",
       "\n",
       "                                 RemoteWork  \\\n",
       "1                                    Remote   \n",
       "2      Hybrid (some remote, some in-person)   \n",
       "3      Hybrid (some remote, some in-person)   \n",
       "4                                    Remote   \n",
       "5                                    Remote   \n",
       "...                                     ...   \n",
       "89178                                Remote   \n",
       "89179                                Remote   \n",
       "89180  Hybrid (some remote, some in-person)   \n",
       "89182  Hybrid (some remote, some in-person)   \n",
       "89183  Hybrid (some remote, some in-person)   \n",
       "\n",
       "                                        CodingActivities  \\\n",
       "1      Hobby;Contribute to open-source projects;Boots...   \n",
       "2      Hobby;Professional development or self-paced l...   \n",
       "3                                                  Hobby   \n",
       "4      Hobby;Contribute to open-source projects;Profe...   \n",
       "5      Hobby;Professional development or self-paced l...   \n",
       "...                                                  ...   \n",
       "89178                                              Hobby   \n",
       "89179  Hobby;Bootstrapping a business;Freelance/contr...   \n",
       "89180                            School or academic work   \n",
       "89182                      Hobby;School or academic work   \n",
       "89183  Hobby;Professional development or self-paced l...   \n",
       "\n",
       "                                                 EdLevel  \\\n",
       "1           Bachelor’s degree (B.A., B.S., B.Eng., etc.)   \n",
       "2           Bachelor’s degree (B.A., B.S., B.Eng., etc.)   \n",
       "3           Bachelor’s degree (B.A., B.S., B.Eng., etc.)   \n",
       "4           Bachelor’s degree (B.A., B.S., B.Eng., etc.)   \n",
       "5      Some college/university study without earning ...   \n",
       "...                                                  ...   \n",
       "89178       Bachelor’s degree (B.A., B.S., B.Eng., etc.)   \n",
       "89179                Associate degree (A.A., A.S., etc.)   \n",
       "89180       Bachelor’s degree (B.A., B.S., B.Eng., etc.)   \n",
       "89182  Secondary school (e.g. American high school, G...   \n",
       "89183       Bachelor’s degree (B.A., B.S., B.Eng., etc.)   \n",
       "\n",
       "                                               LearnCode  \\\n",
       "1      Books / Physical media;Colleague;Friend or fam...   \n",
       "2      Books / Physical media;Colleague;On the job tr...   \n",
       "3      Colleague;Friend or family member;Other online...   \n",
       "4      Books / Physical media;Online Courses or Certi...   \n",
       "5      Books / Physical media;Colleague;Online Course...   \n",
       "...                                                  ...   \n",
       "89178  Online Courses or Certification;On the job tra...   \n",
       "89179  Online Courses or Certification;Other online r...   \n",
       "89180  Colleague;Online Courses or Certification;Othe...   \n",
       "89182  Online Courses or Certification;Other online r...   \n",
       "89183  Colleague;Online Courses or Certification;Othe...   \n",
       "\n",
       "                                         LearnCodeOnline  ...  \\\n",
       "1      Formal documentation provided by the owner of ...  ...   \n",
       "2      Formal documentation provided by the owner of ...  ...   \n",
       "3      Formal documentation provided by the owner of ...  ...   \n",
       "4      Formal documentation provided by the owner of ...  ...   \n",
       "5      Formal documentation provided by the owner of ...  ...   \n",
       "...                                                  ...  ...   \n",
       "89178  Formal documentation provided by the owner of ...  ...   \n",
       "89179  Formal documentation provided by the owner of ...  ...   \n",
       "89180  Formal documentation provided by the owner of ...  ...   \n",
       "89182  Formal documentation provided by the owner of ...  ...   \n",
       "89183  Formal documentation provided by the owner of ...  ...   \n",
       "\n",
       "             Frequency_1        Frequency_2       Frequency_3  \\\n",
       "1       1-2 times a week   10+ times a week             Never   \n",
       "2      6-10 times a week  6-10 times a week  3-5 times a week   \n",
       "3       1-2 times a week   10+ times a week  1-2 times a week   \n",
       "4       1-2 times a week   1-2 times a week  3-5 times a week   \n",
       "5       1-2 times a week   1-2 times a week  3-5 times a week   \n",
       "...                  ...                ...               ...   \n",
       "89178   1-2 times a week   1-2 times a week  1-2 times a week   \n",
       "89179                NaN                NaN               NaN   \n",
       "89180                NaN                NaN               NaN   \n",
       "89182                NaN                NaN               NaN   \n",
       "89183              Never   1-2 times a week  1-2 times a week   \n",
       "\n",
       "              TimeSearching         TimeAnswering  \\\n",
       "1       15-30 minutes a day   15-30 minutes a day   \n",
       "2       30-60 minutes a day   30-60 minutes a day   \n",
       "3       15-30 minutes a day   30-60 minutes a day   \n",
       "4      60-120 minutes a day   30-60 minutes a day   \n",
       "5       30-60 minutes a day   15-30 minutes a day   \n",
       "...                     ...                   ...   \n",
       "89178   15-30 minutes a day  60-120 minutes a day   \n",
       "89179                   NaN                   NaN   \n",
       "89180                   NaN                   NaN   \n",
       "89182                   NaN                   NaN   \n",
       "89183  60-120 minutes a day   30-60 minutes a day   \n",
       "\n",
       "                                        ProfessionalTech  \\\n",
       "1      DevOps function;Microservices;Automated testin...   \n",
       "2      DevOps function;Microservices;Automated testin...   \n",
       "3      Automated testing;Continuous integration (CI) ...   \n",
       "4      Microservices;Automated testing;Observability ...   \n",
       "5      DevOps function;Microservices;Observability to...   \n",
       "...                                                  ...   \n",
       "89178  DevOps function;Microservices;Automated testin...   \n",
       "89179                                                NaN   \n",
       "89180                                                NaN   \n",
       "89182                                                NaN   \n",
       "89183  DevOps function;Developer portal or other cent...   \n",
       "\n",
       "                                                Industry  \\\n",
       "1      Information Services, IT, Software Development...   \n",
       "2      Information Services, IT, Software Development...   \n",
       "3                                                    NaN   \n",
       "4                                                  Other   \n",
       "5                                                  Other   \n",
       "...                                                  ...   \n",
       "89178                                          Insurance   \n",
       "89179                                                NaN   \n",
       "89180                                                NaN   \n",
       "89182                                                NaN   \n",
       "89183  Information Services, IT, Software Development...   \n",
       "\n",
       "                SurveyLength                  SurveyEase ConvertedCompYearly  \n",
       "1      Appropriate in length                        Easy            285000.0  \n",
       "2      Appropriate in length                        Easy            250000.0  \n",
       "3      Appropriate in length                        Easy            156000.0  \n",
       "4      Appropriate in length  Neither easy nor difficult             23456.0  \n",
       "5      Appropriate in length  Neither easy nor difficult             96828.0  \n",
       "...                      ...                         ...                 ...  \n",
       "89178  Appropriate in length                        Easy                 NaN  \n",
       "89179               Too long  Neither easy nor difficult                 NaN  \n",
       "89180               Too long                        Easy                 NaN  \n",
       "89182  Appropriate in length  Neither easy nor difficult                 NaN  \n",
       "89183  Appropriate in length                        Easy                 NaN  \n",
       "\n",
       "[70084 rows x 84 columns]"
      ]
     },
     "execution_count": 26,
     "metadata": {},
     "output_type": "execute_result"
    }
   ],
   "source": [
    "online_learners"
   ]
  },
  {
   "cell_type": "code",
   "execution_count": 27,
   "id": "6efac4fc-c7d5-4816-a046-ce772010d0ed",
   "metadata": {},
   "outputs": [],
   "source": [
    "online_learners_count = dataset['LearnCodeOnline'].notna().sum()"
   ]
  },
  {
   "cell_type": "code",
   "execution_count": 28,
   "id": "8af0b6a9-dbe4-4395-b423-17f887ef831f",
   "metadata": {},
   "outputs": [
    {
     "data": {
      "text/plain": [
       "70084"
      ]
     },
     "execution_count": 28,
     "metadata": {},
     "output_type": "execute_result"
    }
   ],
   "source": [
    "online_learners_count"
   ]
  },
  {
   "cell_type": "markdown",
   "id": "4167dfce-beb1-4311-b232-472518d0aae8",
   "metadata": {},
   "source": [
    "7. Dintre respondenții care programează în Python, grupați pe țări, care este valoarea medie și mediană a remunerației (ConvertedCompYearly) în fiecare țară?"
   ]
  },
  {
   "cell_type": "code",
   "execution_count": 35,
   "id": "dd71bec5-4e09-43cf-b9b0-05f406b95c73",
   "metadata": {},
   "outputs": [],
   "source": [
    "grouped_countries = dataset.groupby('Country')"
   ]
  },
  {
   "cell_type": "code",
   "execution_count": 37,
   "id": "96cf0e0f-d9ef-473f-ae7e-f56808ae61c7",
   "metadata": {},
   "outputs": [],
   "source": [
    "mean_converted_comp_yearly = grouped_countries['ConvertedCompYearly'].mean()"
   ]
  },
  {
   "cell_type": "code",
   "execution_count": 38,
   "id": "a4ba09cd-60e6-4ebb-a8da-af06f4384b02",
   "metadata": {},
   "outputs": [
    {
     "data": {
      "text/plain": [
       "Country\n",
       "Afghanistan                             843636.090909\n",
       "Albania                                  29219.450000\n",
       "Algeria                                  10069.190476\n",
       "Andorra                                 120368.800000\n",
       "Angola                                    4302.000000\n",
       "                                            ...      \n",
       "Venezuela, Bolivarian Republic of...     23068.851852\n",
       "Viet Nam                                 20995.956140\n",
       "Yemen                                    15089.333333\n",
       "Zambia                                   13897.800000\n",
       "Zimbabwe                                 26740.000000\n",
       "Name: ConvertedCompYearly, Length: 185, dtype: float64"
      ]
     },
     "execution_count": 38,
     "metadata": {},
     "output_type": "execute_result"
    }
   ],
   "source": [
    "mean_converted_comp_yearly"
   ]
  },
  {
   "cell_type": "code",
   "execution_count": 39,
   "id": "bd28308c-2e62-4538-8fdc-56672a7e6e89",
   "metadata": {},
   "outputs": [],
   "source": [
    "median_converted_comp_yearly = grouped_countries['ConvertedCompYearly'].median()"
   ]
  },
  {
   "cell_type": "code",
   "execution_count": 40,
   "id": "b740c898-1866-4b5c-bcf9-350357f98fb5",
   "metadata": {},
   "outputs": [
    {
     "data": {
      "text/plain": [
       "Country\n",
       "Afghanistan                               915.0\n",
       "Albania                                 10741.0\n",
       "Algeria                                  8782.0\n",
       "Andorra                                 42836.0\n",
       "Angola                                   4302.0\n",
       "                                         ...   \n",
       "Venezuela, Bolivarian Republic of...    12000.0\n",
       "Viet Nam                                12763.0\n",
       "Yemen                                    6500.0\n",
       "Zambia                                   9687.0\n",
       "Zimbabwe                                12500.0\n",
       "Name: ConvertedCompYearly, Length: 185, dtype: float64"
      ]
     },
     "execution_count": 40,
     "metadata": {},
     "output_type": "execute_result"
    }
   ],
   "source": [
    "median_converted_comp_yearly"
   ]
  },
  {
   "cell_type": "markdown",
   "id": "6ce94a21-aab8-4224-8e0f-297101724ed2",
   "metadata": {},
   "source": [
    "8. Ce nivel de educație au cei 5 respondenți cu cea mai mare compensație?"
   ]
  },
  {
   "cell_type": "code",
   "execution_count": 61,
   "id": "6218b984-27d4-48f0-a6d3-0a81a015012f",
   "metadata": {},
   "outputs": [],
   "source": [
    "sorted_dataset_comp = dataset.sort_values(by='ConvertedCompYearly', ascending=False)"
   ]
  },
  {
   "cell_type": "code",
   "execution_count": 64,
   "id": "7628cd3f-2262-40bf-a801-b9ad6fe2cf8d",
   "metadata": {},
   "outputs": [],
   "source": [
    "top_5 = sorted_dataset_comp.head()"
   ]
  },
  {
   "cell_type": "code",
   "execution_count": 65,
   "id": "b7aa075a-8f24-415e-9560-abeedfd9b184",
   "metadata": {},
   "outputs": [
    {
     "data": {
      "text/html": [
       "<div>\n",
       "<style scoped>\n",
       "    .dataframe tbody tr th:only-of-type {\n",
       "        vertical-align: middle;\n",
       "    }\n",
       "\n",
       "    .dataframe tbody tr th {\n",
       "        vertical-align: top;\n",
       "    }\n",
       "\n",
       "    .dataframe thead th {\n",
       "        text-align: right;\n",
       "    }\n",
       "</style>\n",
       "<table border=\"1\" class=\"dataframe\">\n",
       "  <thead>\n",
       "    <tr style=\"text-align: right;\">\n",
       "      <th></th>\n",
       "      <th>ResponseId</th>\n",
       "      <th>Q120</th>\n",
       "      <th>MainBranch</th>\n",
       "      <th>Age</th>\n",
       "      <th>Employment</th>\n",
       "      <th>RemoteWork</th>\n",
       "      <th>CodingActivities</th>\n",
       "      <th>EdLevel</th>\n",
       "      <th>LearnCode</th>\n",
       "      <th>LearnCodeOnline</th>\n",
       "      <th>...</th>\n",
       "      <th>Frequency_1</th>\n",
       "      <th>Frequency_2</th>\n",
       "      <th>Frequency_3</th>\n",
       "      <th>TimeSearching</th>\n",
       "      <th>TimeAnswering</th>\n",
       "      <th>ProfessionalTech</th>\n",
       "      <th>Industry</th>\n",
       "      <th>SurveyLength</th>\n",
       "      <th>SurveyEase</th>\n",
       "      <th>ConvertedCompYearly</th>\n",
       "    </tr>\n",
       "  </thead>\n",
       "  <tbody>\n",
       "    <tr>\n",
       "      <th>53268</th>\n",
       "      <td>53269</td>\n",
       "      <td>I agree</td>\n",
       "      <td>I am a developer by profession</td>\n",
       "      <td>18-24 years old</td>\n",
       "      <td>Independent contractor, freelancer, or self-em...</td>\n",
       "      <td>Hybrid (some remote, some in-person)</td>\n",
       "      <td>Hobby;Contribute to open-source projects;Boots...</td>\n",
       "      <td>Professional degree (JD, MD, Ph.D, Ed.D, etc.)</td>\n",
       "      <td>Friend or family member;Online Courses or Cert...</td>\n",
       "      <td>Formal documentation provided by the owner of ...</td>\n",
       "      <td>...</td>\n",
       "      <td>1-2 times a week</td>\n",
       "      <td>10+ times a week</td>\n",
       "      <td>Never</td>\n",
       "      <td>15-30 minutes a day</td>\n",
       "      <td>15-30 minutes a day</td>\n",
       "      <td>Developer portal or other central places to fi...</td>\n",
       "      <td>Information Services, IT, Software Development...</td>\n",
       "      <td>Appropriate in length</td>\n",
       "      <td>Neither easy nor difficult</td>\n",
       "      <td>74351432.0</td>\n",
       "    </tr>\n",
       "    <tr>\n",
       "      <th>77848</th>\n",
       "      <td>77849</td>\n",
       "      <td>I agree</td>\n",
       "      <td>I am a developer by profession</td>\n",
       "      <td>35-44 years old</td>\n",
       "      <td>I prefer not to say</td>\n",
       "      <td>NaN</td>\n",
       "      <td>NaN</td>\n",
       "      <td>Professional degree (JD, MD, Ph.D, Ed.D, etc.)</td>\n",
       "      <td>Books / Physical media;Colleague;Friend or fam...</td>\n",
       "      <td>Formal documentation provided by the owner of ...</td>\n",
       "      <td>...</td>\n",
       "      <td>10+ times a week</td>\n",
       "      <td>10+ times a week</td>\n",
       "      <td>10+ times a week</td>\n",
       "      <td>Over 120 minutes a day</td>\n",
       "      <td>NaN</td>\n",
       "      <td>DevOps function;Microservices;Automated testin...</td>\n",
       "      <td>Other</td>\n",
       "      <td>Too long</td>\n",
       "      <td>Neither easy nor difficult</td>\n",
       "      <td>73607918.0</td>\n",
       "    </tr>\n",
       "    <tr>\n",
       "      <th>66223</th>\n",
       "      <td>66224</td>\n",
       "      <td>I agree</td>\n",
       "      <td>I am a developer by profession</td>\n",
       "      <td>55-64 years old</td>\n",
       "      <td>Independent contractor, freelancer, or self-em...</td>\n",
       "      <td>Remote</td>\n",
       "      <td>Hobby;Freelance/contract work;Other (please sp...</td>\n",
       "      <td>Bachelor’s degree (B.A., B.S., B.Eng., etc.)</td>\n",
       "      <td>School (i.e., University, College, etc)</td>\n",
       "      <td>NaN</td>\n",
       "      <td>...</td>\n",
       "      <td>NaN</td>\n",
       "      <td>NaN</td>\n",
       "      <td>NaN</td>\n",
       "      <td>NaN</td>\n",
       "      <td>NaN</td>\n",
       "      <td>NaN</td>\n",
       "      <td>NaN</td>\n",
       "      <td>Appropriate in length</td>\n",
       "      <td>Easy</td>\n",
       "      <td>72714292.0</td>\n",
       "    </tr>\n",
       "    <tr>\n",
       "      <th>28121</th>\n",
       "      <td>28122</td>\n",
       "      <td>I agree</td>\n",
       "      <td>I am a developer by profession</td>\n",
       "      <td>25-34 years old</td>\n",
       "      <td>Employed, full-time</td>\n",
       "      <td>Hybrid (some remote, some in-person)</td>\n",
       "      <td>Professional development or self-paced learnin...</td>\n",
       "      <td>Primary/elementary school</td>\n",
       "      <td>Books / Physical media;Other online resources ...</td>\n",
       "      <td>Recorded coding sessions;Written-based Online ...</td>\n",
       "      <td>...</td>\n",
       "      <td>1-2 times a week</td>\n",
       "      <td>1-2 times a week</td>\n",
       "      <td>1-2 times a week</td>\n",
       "      <td>15-30 minutes a day</td>\n",
       "      <td>15-30 minutes a day</td>\n",
       "      <td>Continuous integration (CI) and (more often) c...</td>\n",
       "      <td>Financial Services</td>\n",
       "      <td>Appropriate in length</td>\n",
       "      <td>Difficult</td>\n",
       "      <td>57513831.0</td>\n",
       "    </tr>\n",
       "    <tr>\n",
       "      <th>19679</th>\n",
       "      <td>19680</td>\n",
       "      <td>I agree</td>\n",
       "      <td>I am a developer by profession</td>\n",
       "      <td>25-34 years old</td>\n",
       "      <td>Employed, part-time</td>\n",
       "      <td>Remote</td>\n",
       "      <td>Professional development or self-paced learnin...</td>\n",
       "      <td>Professional degree (JD, MD, Ph.D, Ed.D, etc.)</td>\n",
       "      <td>Other (please specify):</td>\n",
       "      <td>NaN</td>\n",
       "      <td>...</td>\n",
       "      <td>NaN</td>\n",
       "      <td>NaN</td>\n",
       "      <td>NaN</td>\n",
       "      <td>NaN</td>\n",
       "      <td>NaN</td>\n",
       "      <td>NaN</td>\n",
       "      <td>NaN</td>\n",
       "      <td>Too short</td>\n",
       "      <td>Easy</td>\n",
       "      <td>36573181.0</td>\n",
       "    </tr>\n",
       "  </tbody>\n",
       "</table>\n",
       "<p>5 rows × 84 columns</p>\n",
       "</div>"
      ],
      "text/plain": [
       "       ResponseId     Q120                      MainBranch              Age  \\\n",
       "53268       53269  I agree  I am a developer by profession  18-24 years old   \n",
       "77848       77849  I agree  I am a developer by profession  35-44 years old   \n",
       "66223       66224  I agree  I am a developer by profession  55-64 years old   \n",
       "28121       28122  I agree  I am a developer by profession  25-34 years old   \n",
       "19679       19680  I agree  I am a developer by profession  25-34 years old   \n",
       "\n",
       "                                              Employment  \\\n",
       "53268  Independent contractor, freelancer, or self-em...   \n",
       "77848                                I prefer not to say   \n",
       "66223  Independent contractor, freelancer, or self-em...   \n",
       "28121                                Employed, full-time   \n",
       "19679                                Employed, part-time   \n",
       "\n",
       "                                 RemoteWork  \\\n",
       "53268  Hybrid (some remote, some in-person)   \n",
       "77848                                   NaN   \n",
       "66223                                Remote   \n",
       "28121  Hybrid (some remote, some in-person)   \n",
       "19679                                Remote   \n",
       "\n",
       "                                        CodingActivities  \\\n",
       "53268  Hobby;Contribute to open-source projects;Boots...   \n",
       "77848                                                NaN   \n",
       "66223  Hobby;Freelance/contract work;Other (please sp...   \n",
       "28121  Professional development or self-paced learnin...   \n",
       "19679  Professional development or self-paced learnin...   \n",
       "\n",
       "                                              EdLevel  \\\n",
       "53268  Professional degree (JD, MD, Ph.D, Ed.D, etc.)   \n",
       "77848  Professional degree (JD, MD, Ph.D, Ed.D, etc.)   \n",
       "66223    Bachelor’s degree (B.A., B.S., B.Eng., etc.)   \n",
       "28121                       Primary/elementary school   \n",
       "19679  Professional degree (JD, MD, Ph.D, Ed.D, etc.)   \n",
       "\n",
       "                                               LearnCode  \\\n",
       "53268  Friend or family member;Online Courses or Cert...   \n",
       "77848  Books / Physical media;Colleague;Friend or fam...   \n",
       "66223            School (i.e., University, College, etc)   \n",
       "28121  Books / Physical media;Other online resources ...   \n",
       "19679                            Other (please specify):   \n",
       "\n",
       "                                         LearnCodeOnline  ...  \\\n",
       "53268  Formal documentation provided by the owner of ...  ...   \n",
       "77848  Formal documentation provided by the owner of ...  ...   \n",
       "66223                                                NaN  ...   \n",
       "28121  Recorded coding sessions;Written-based Online ...  ...   \n",
       "19679                                                NaN  ...   \n",
       "\n",
       "            Frequency_1       Frequency_2       Frequency_3  \\\n",
       "53268  1-2 times a week  10+ times a week             Never   \n",
       "77848  10+ times a week  10+ times a week  10+ times a week   \n",
       "66223               NaN               NaN               NaN   \n",
       "28121  1-2 times a week  1-2 times a week  1-2 times a week   \n",
       "19679               NaN               NaN               NaN   \n",
       "\n",
       "                TimeSearching        TimeAnswering  \\\n",
       "53268     15-30 minutes a day  15-30 minutes a day   \n",
       "77848  Over 120 minutes a day                  NaN   \n",
       "66223                     NaN                  NaN   \n",
       "28121     15-30 minutes a day  15-30 minutes a day   \n",
       "19679                     NaN                  NaN   \n",
       "\n",
       "                                        ProfessionalTech  \\\n",
       "53268  Developer portal or other central places to fi...   \n",
       "77848  DevOps function;Microservices;Automated testin...   \n",
       "66223                                                NaN   \n",
       "28121  Continuous integration (CI) and (more often) c...   \n",
       "19679                                                NaN   \n",
       "\n",
       "                                                Industry  \\\n",
       "53268  Information Services, IT, Software Development...   \n",
       "77848                                              Other   \n",
       "66223                                                NaN   \n",
       "28121                                 Financial Services   \n",
       "19679                                                NaN   \n",
       "\n",
       "                SurveyLength                  SurveyEase ConvertedCompYearly  \n",
       "53268  Appropriate in length  Neither easy nor difficult          74351432.0  \n",
       "77848               Too long  Neither easy nor difficult          73607918.0  \n",
       "66223  Appropriate in length                        Easy          72714292.0  \n",
       "28121  Appropriate in length                   Difficult          57513831.0  \n",
       "19679              Too short                        Easy          36573181.0  \n",
       "\n",
       "[5 rows x 84 columns]"
      ]
     },
     "execution_count": 65,
     "metadata": {},
     "output_type": "execute_result"
    }
   ],
   "source": [
    "top_5"
   ]
  },
  {
   "cell_type": "code",
   "execution_count": 66,
   "id": "8eb160b6-d281-4d0d-8266-0a0851b00c04",
   "metadata": {},
   "outputs": [],
   "source": [
    "education_level_of_top_5 = top_5['EdLevel']"
   ]
  },
  {
   "cell_type": "code",
   "execution_count": 67,
   "id": "9455849e-22be-4324-8c60-95debbb3382f",
   "metadata": {},
   "outputs": [
    {
     "data": {
      "text/plain": [
       "53268    Professional degree (JD, MD, Ph.D, Ed.D, etc.)\n",
       "77848    Professional degree (JD, MD, Ph.D, Ed.D, etc.)\n",
       "66223      Bachelor’s degree (B.A., B.S., B.Eng., etc.)\n",
       "28121                         Primary/elementary school\n",
       "19679    Professional degree (JD, MD, Ph.D, Ed.D, etc.)\n",
       "Name: EdLevel, dtype: object"
      ]
     },
     "execution_count": 67,
     "metadata": {},
     "output_type": "execute_result"
    }
   ],
   "source": [
    "education_level_of_top_5"
   ]
  }
 ],
 "metadata": {
  "kernelspec": {
   "display_name": "Python 3 (ipykernel)",
   "language": "python",
   "name": "python3"
  },
  "language_info": {
   "codemirror_mode": {
    "name": "ipython",
    "version": 3
   },
   "file_extension": ".py",
   "mimetype": "text/x-python",
   "name": "python",
   "nbconvert_exporter": "python",
   "pygments_lexer": "ipython3",
   "version": "3.11.7"
  }
 },
 "nbformat": 4,
 "nbformat_minor": 5
}
