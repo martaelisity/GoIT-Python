{
 "cells": [
  {
   "cell_type": "markdown",
   "metadata": {},
   "source": [
    "# Autoevaluare 2"
   ]
  },
  {
   "cell_type": "markdown",
   "metadata": {},
   "source": [
    "ex. 1"
   ]
  },
  {
   "cell_type": "code",
   "execution_count": null,
   "metadata": {},
   "outputs": [],
   "source": [
    "message = \"Never argue with stupid people, they will drag you down to their level and then beat you with experience.\"\n",
    "search = \"r\"\n",
    "result = 0\n",
    "for char in message:\n",
    "    if char == search:\n",
    "        result += 1\n",
    "\n",
    "print(result)"
   ]
  },
  {
   "cell_type": "markdown",
   "metadata": {},
   "source": [
    "ex. 2"
   ]
  },
  {
   "cell_type": "code",
   "execution_count": null,
   "metadata": {},
   "outputs": [],
   "source": [
    "sum = 0\n",
    "num = 10\n",
    "while num != 0:\n",
    "    num = int(input(\"Enter integer (0 for output): \"))\n",
    "    for i in range(num + 1):\n",
    "        sum = sum+i\n",
    "    #print(num)\n",
    "    \n",
    "\n",
    "print(f\"Sum is {sum}\")"
   ]
  },
  {
   "cell_type": "markdown",
   "metadata": {},
   "source": [
    "ex. 3"
   ]
  },
  {
   "cell_type": "code",
   "execution_count": null,
   "metadata": {},
   "outputs": [],
   "source": [
    "def greeting():\n",
    "    print('Hello world!')\n",
    "\n",
    "greeting()"
   ]
  },
  {
   "cell_type": "markdown",
   "metadata": {},
   "source": [
    "ex. 4"
   ]
  },
  {
   "cell_type": "code",
   "execution_count": null,
   "metadata": {},
   "outputs": [],
   "source": [
    "def invite_to_event(username):\n",
    "    return f\"Dear {username}, we have the honour to invite you to our event\"\n",
    "\n",
    "invite_to_event('Marta')"
   ]
  },
  {
   "cell_type": "markdown",
   "metadata": {},
   "source": [
    "ex. 5"
   ]
  },
  {
   "cell_type": "code",
   "execution_count": null,
   "metadata": {},
   "outputs": [],
   "source": [
    "base_rate = 5\n",
    "price_per_km = 1\n",
    "total_trip = 0\n",
    "\n",
    "def calculate_trip_price(distance_km):\n",
    "    global total_trip\n",
    "    total_price = base_rate + price_per_km * distance_km\n",
    "    total_trip += 1\n",
    "    return total_price"
   ]
  },
  {
   "cell_type": "markdown",
   "metadata": {},
   "source": [
    "ex. 6"
   ]
  },
  {
   "cell_type": "code",
   "execution_count": null,
   "metadata": {},
   "outputs": [],
   "source": [
    "def get_fullname (first_name, last_name, middle_name=\"\"):\n",
    "    if middle_name:\n",
    "        return f\"{first_name} {middle_name} {last_name}\"\n",
    "    else:\n",
    "        return f\"{first_name} {last_name}\""
   ]
  },
  {
   "cell_type": "markdown",
   "metadata": {},
   "source": [
    "ex. 7"
   ]
  },
  {
   "cell_type": "code",
   "execution_count": null,
   "metadata": {},
   "outputs": [],
   "source": [
    "def amount_payment(payments):\n",
    "    totals = 0\n",
    "    for payment in payments:\n",
    "        if payment > 0:\n",
    "            totals += payment\n",
    "    return totals"
   ]
  },
  {
   "cell_type": "markdown",
   "metadata": {},
   "source": [
    "ex. 8"
   ]
  },
  {
   "cell_type": "code",
   "execution_count": null,
   "metadata": {},
   "outputs": [],
   "source": [
    "def prepare_data(data):\n",
    "    data.remove(max(data))\n",
    "    data.remove(min(data))\n",
    "    data.sort()\n",
    "\n",
    "    return data"
   ]
  },
  {
   "cell_type": "markdown",
   "metadata": {},
   "source": [
    "ex. 9"
   ]
  },
  {
   "cell_type": "code",
   "execution_count": null,
   "metadata": {},
   "outputs": [],
   "source": [
    "def lookup_key(data, value):\n",
    "    matching_keys = []\n",
    "    for key in data:\n",
    "        if data[key] == value:\n",
    "            matching_keys.append(key)\n",
    "    return matching_keys"
   ]
  },
  {
   "cell_type": "markdown",
   "metadata": {},
   "source": [
    "ex. 10"
   ]
  },
  {
   "cell_type": "code",
   "execution_count": null,
   "metadata": {},
   "outputs": [],
   "source": [
    "def split_list(grade):\n",
    "    if not grade:\n",
    "        return ([], [])\n",
    "    medie = sum(grade) / len(grade)\n",
    "    sub_egal_medie = list (x for x in grade if x <= medie)\n",
    "    peste_medie = list (x for x in grade if x > medie)\n",
    "    return sub_egal_medie, peste_medie"
   ]
  }
 ],
 "metadata": {
  "language_info": {
   "name": "python"
  }
 },
 "nbformat": 4,
 "nbformat_minor": 2
}
