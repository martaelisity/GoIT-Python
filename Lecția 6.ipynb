{
 "cells": [
  {
   "cell_type": "markdown",
   "id": "8d16e6bb-4ec1-4c7d-a69d-4c37f7d37060",
   "metadata": {},
   "source": [
    "# dropna"
   ]
  },
  {
   "cell_type": "code",
   "execution_count": 1,
   "id": "eb02161d-82bb-4833-8b11-0a53cf9cb40f",
   "metadata": {},
   "outputs": [
    {
     "name": "stdout",
     "output_type": "stream",
     "text": [
      "    Name   Age Field\n",
      "0  Marta  28.0  Math\n"
     ]
    }
   ],
   "source": [
    "import pandas as pd\n",
    "\n",
    "students_data = {\n",
    "    'Name': ['Marta', 'Elisa', None],\n",
    "    'Age': [28, None, 27],\n",
    "    'Field': ['Math', 'Physics', 'Biology']\n",
    "}\n",
    "\n",
    "students_df = pd.DataFrame(students_data)\n",
    "\n",
    "cleaned_df = students_df.dropna()\n",
    "print(cleaned_df)"
   ]
  },
  {
   "cell_type": "markdown",
   "id": "4e6c1bb5-3e6d-48ba-93c5-8bb7f57c1b3a",
   "metadata": {},
   "source": [
    "# fillna"
   ]
  },
  {
   "cell_type": "code",
   "execution_count": 2,
   "id": "562a6469-831a-4396-8d70-7b3bad54d862",
   "metadata": {},
   "outputs": [
    {
     "name": "stdout",
     "output_type": "stream",
     "text": [
      "    Name   Age    Field Group\n",
      "0    Ann  21.0     Math   M19\n",
      "1    Dan  21.0  Physics   P18\n",
      "2  Ellen  21.0  Biology   B20\n",
      "3   John  21.0     Math   M19\n",
      "4    Kat  23.0  Physics   P17\n"
     ]
    }
   ],
   "source": [
    "students_df = pd.DataFrame({\n",
    "    'Name': ['Ann', 'Dan', 'Ellen', 'John', 'Kat'],\n",
    "    'Age': [21, None, None, 21, 23],\n",
    "    'Field': ['Math', 'Physics', 'Biology', 'Math', 'Physics'],\n",
    "    'Group': ['M19', 'P18', 'B20', 'M19', 'P17']\n",
    "    })\n",
    "\n",
    "students_df['Age'].fillna(students_df['Age'].median(), inplace=True)\n",
    "print(students_df)"
   ]
  },
  {
   "cell_type": "code",
   "execution_count": 3,
   "id": "5cbd4f8d-cdf4-4aeb-96f4-30c65b098fe7",
   "metadata": {},
   "outputs": [
    {
     "name": "stdout",
     "output_type": "stream",
     "text": [
      "    Name   Age    Field Group\n",
      "0    Ann  21.0     Math   M19\n",
      "1    Dan  21.0  Physics   P18\n",
      "2  Ellen  21.0  Biology   B20\n",
      "3   John  21.0     Math   M19\n",
      "4    Kat  23.0  Physics   P17\n"
     ]
    }
   ],
   "source": [
    "students1_df = pd.DataFrame({\n",
    "    'Name':  ['Ann', 'Dan', 'Ellen', 'John', 'Kat'],\n",
    "    'Age':   [21, None, None, 21, 23],\n",
    "    'Field': ['Math', 'Physics', 'Biology', 'Math', 'Physics'],\n",
    "    'Group': ['M19', 'P18', 'B20', 'M19', 'P17'],\n",
    "    'Passed exams': [None, 2, 3, None, None]\n",
    "    })\n",
    "\n",
    "students1_df['Passed exams'].fillna(0, inplace=True)\n",
    "print(students_df)"
   ]
  },
  {
   "cell_type": "markdown",
   "id": "21581555-fc88-4b60-9204-76cd938e5a3e",
   "metadata": {},
   "source": [
    "# drop"
   ]
  },
  {
   "cell_type": "code",
   "execution_count": 7,
   "id": "3acb82a7-3769-45d1-8b73-ae8ba0d0bf79",
   "metadata": {},
   "outputs": [
    {
     "name": "stdout",
     "output_type": "stream",
     "text": [
      "    Name  Age    Field\n",
      "0    Ann   21     Math\n",
      "2  Ellen   20  Biology\n"
     ]
    }
   ],
   "source": [
    "tabel_studenti = {\n",
    "    'Name': ['Ann', 'Dan', 'Ellen'],\n",
    "    'Age': [21, 22, 20],\n",
    "    'Field': ['Math', 'Physics', 'Biology']\n",
    "}\n",
    "tabel_studenti_df = pd.DataFrame(tabel_studenti)\n",
    "\n",
    "tabel_studenti_df.drop([1], inplace=True)\n",
    "print(tabel_studenti_df)"
   ]
  },
  {
   "cell_type": "markdown",
   "id": "e1142034-1fc2-49a1-8df1-17f1a9fa2b8e",
   "metadata": {},
   "source": [
    "# drop_duplicates"
   ]
  },
  {
   "cell_type": "code",
   "execution_count": 8,
   "id": "6724c98d-9523-4a1a-9865-3729a66f1b77",
   "metadata": {},
   "outputs": [
    {
     "name": "stdout",
     "output_type": "stream",
     "text": [
      "    Name    Field Average score\n",
      "0    Ann     Math        90-100\n",
      "1    Dan  Physics        90-100\n",
      "2  Ellen  Biology         85-89\n",
      "3   John  History         75-84\n",
      "4    Kat  Physics         85-89\n",
      "5   John     Math         75-84\n"
     ]
    }
   ],
   "source": [
    "stud= pd.DataFrame({\n",
    "    'Name': ['Ann', 'Dan', 'Ellen', 'John', 'Kat', 'John'],\n",
    "    'Field': ['Math', 'Physics', 'Biology', 'History', 'Physics', 'Math'],\n",
    "    'Average score': ['90-100', '90-100', '85-89', '75-84', '85-89', '75-84']\n",
    "})\n",
    "\n",
    "print(stud)"
   ]
  },
  {
   "cell_type": "code",
   "execution_count": 9,
   "id": "65cbe3cd-25bb-479a-b662-629dc3113860",
   "metadata": {},
   "outputs": [
    {
     "name": "stdout",
     "output_type": "stream",
     "text": [
      "    Name    Field Average score\n",
      "0    Ann     Math        90-100\n",
      "1    Dan  Physics        90-100\n",
      "2  Ellen  Biology         85-89\n",
      "4    Kat  Physics         85-89\n",
      "5   John     Math         75-84\n"
     ]
    }
   ],
   "source": [
    "stud.drop_duplicates(subset='Name', keep='last', inplace=True)\n",
    "print(stud)"
   ]
  },
  {
   "cell_type": "markdown",
   "id": "43e8fa1a-eea3-4181-a130-0896aa8c231b",
   "metadata": {},
   "source": [
    "# replace"
   ]
  },
  {
   "cell_type": "code",
   "execution_count": 10,
   "id": "205999e3-a88b-4e0f-9564-ffb370ed2bb0",
   "metadata": {},
   "outputs": [
    {
     "name": "stdout",
     "output_type": "stream",
     "text": [
      "    Name    Field Average score\n",
      "0    Ann     Math        90-100\n",
      "1    Dan   Fisics        90-100\n",
      "2  Ellen  Biology         85-89\n",
      "3   John     Math         75-84\n",
      "4    Kat   Fisics         85-89\n"
     ]
    }
   ],
   "source": [
    "stud1 = pd.DataFrame({\n",
    "    'Name': ['Ann', 'Dan', 'Ellen', 'John', 'Kat'],\n",
    "    'Field': ['Math', 'Fisics', 'Biology', 'Math', 'Fisics'],\n",
    "    'Average score': ['A', 'A', 'B', 'C', 'B'] \n",
    "})\n",
    "    \n",
    "stud1.replace({'A': '90-100',\n",
    "                     'B': '85-89', \n",
    "                     'C': '75-84', \n",
    "                     'D': '65-74',\n",
    "                     'E': '60-64'}, inplace=True)\n",
    "print(stud1)"
   ]
  },
  {
   "cell_type": "code",
   "execution_count": 11,
   "id": "ec06ba50-d554-4e97-a2e9-7b6307a98c3b",
   "metadata": {},
   "outputs": [
    {
     "name": "stdout",
     "output_type": "stream",
     "text": [
      "    Name    Field Average score\n",
      "0    Ann     Math        90-100\n",
      "1    Dan  Physics        90-100\n",
      "2  Ellen  Biology         85-89\n",
      "3   John     Math         75-84\n",
      "4    Kat  Physics         85-89\n"
     ]
    }
   ],
   "source": [
    "stud1.replace(to_replace='Fisics',\n",
    "                    value='Physics', \n",
    "                    inplace=True)\n",
    "print(stud1)"
   ]
  },
  {
   "cell_type": "markdown",
   "id": "06376a0d-0edb-423e-8c31-762453e570f4",
   "metadata": {},
   "source": [
    "# astype"
   ]
  },
  {
   "cell_type": "code",
   "execution_count": 12,
   "id": "e7ba7372-cc13-47f0-886d-d8781a848fbe",
   "metadata": {},
   "outputs": [
    {
     "name": "stdout",
     "output_type": "stream",
     "text": [
      "Name     object\n",
      "Age       int32\n",
      "Field    object\n",
      "dtype: object\n"
     ]
    }
   ],
   "source": [
    "s_data = {\n",
    "  'Name': ['Ann', 'Dan', 'Ellen'],\n",
    "  'Age': [21.0, 22.0, 20.0],\n",
    "  'Field': ['Math', 'Physics', 'Biology']\n",
    "}\n",
    "\n",
    "students3_df = pd.DataFrame(s_data)\n",
    "\n",
    "students3_df['Age'] = students3_df['Age'].astype(int)\n",
    "print(students3_df.dtypes)\n"
   ]
  },
  {
   "cell_type": "markdown",
   "id": "13394da3-4a4f-4e61-8523-d1a5f0b6b4d5",
   "metadata": {},
   "source": [
    "# Standardizarea datelor"
   ]
  },
  {
   "cell_type": "code",
   "execution_count": 13,
   "id": "1d90783e-baa0-443f-ab7e-4a1201ddb146",
   "metadata": {},
   "outputs": [],
   "source": [
    "ts_data = {\n",
    "    'Name': ['Ann', 'dan', 'vicky'],\n",
    "    'Age': [21, 22, 20],\n",
    "    'Field': ['Math', 'PHYSICS', 'biology']\n",
    "}\n",
    "\n",
    "students4_df = pd.DataFrame(ts_data)"
   ]
  },
  {
   "cell_type": "code",
   "execution_count": 14,
   "id": "cc590191-84cb-4a27-b922-97d21ad64b2c",
   "metadata": {},
   "outputs": [
    {
     "name": "stdout",
     "output_type": "stream",
     "text": [
      "    Name  Age    Field\n",
      "0    Ann   21     math\n",
      "1    Dan   22  physics\n",
      "2  Vicky   20  biology\n"
     ]
    }
   ],
   "source": [
    "students4_df['Field'] = students4_df['Field'].str.lower()\n",
    "students4_df['Name'] = students4_df['Name'].str.capitalize()\n",
    "\n",
    "print(students4_df)"
   ]
  },
  {
   "cell_type": "markdown",
   "id": "9f8f2a05-7a0a-422b-ba5e-dcb49208364e",
   "metadata": {},
   "source": [
    "# date_range"
   ]
  },
  {
   "cell_type": "code",
   "execution_count": 15,
   "id": "cc3aa8fb-b920-449f-8356-f3e007cef221",
   "metadata": {},
   "outputs": [
    {
     "name": "stdout",
     "output_type": "stream",
     "text": [
      "2021-09-01    23\n",
      "2021-09-02    17\n",
      "2021-09-03    17\n",
      "2021-09-04    16\n",
      "2021-09-05    15\n",
      "2021-09-06    14\n",
      "2021-09-07    17\n",
      "2021-09-08    20\n",
      "Freq: D, dtype: int64\n"
     ]
    }
   ],
   "source": [
    "dates = pd.date_range(start='2021-09-01', freq='D', periods=8)\n",
    "\n",
    "temperatures = pd.Series([23, 17, 17, 16, 15, 14, 17, 20], index=dates)\n",
    "\n",
    "print(temperatures)"
   ]
  },
  {
   "cell_type": "markdown",
   "id": "1d590f77-bf91-49d4-83cc-191ff0317334",
   "metadata": {},
   "source": [
    "# dt accesor"
   ]
  },
  {
   "cell_type": "code",
   "execution_count": 16,
   "id": "08a8db8a-b23e-44d4-9848-892b477e85cd",
   "metadata": {},
   "outputs": [
    {
     "name": "stdout",
     "output_type": "stream",
     "text": [
      "0    2021\n",
      "1    2021\n",
      "dtype: int32\n"
     ]
    }
   ],
   "source": [
    "timeseries = pd.Series(['2021-08-01', '2021-08-01'])\n",
    "timeseries = pd.to_datetime(timeseries)\n",
    "print(timeseries.dt.year)"
   ]
  },
  {
   "cell_type": "markdown",
   "id": "4d275e35-d1ea-4b6c-bd69-a797aef2643a",
   "metadata": {},
   "source": [
    "# timedelta"
   ]
  },
  {
   "cell_type": "code",
   "execution_count": 17,
   "id": "60a49307-3442-4e21-ad5e-8e387ef47e36",
   "metadata": {},
   "outputs": [
    {
     "name": "stdout",
     "output_type": "stream",
     "text": [
      "    Name    Field Course start\n",
      "0    Ann     Math   2019-09-01\n",
      "1    Dan  Physics   2018-03-01\n",
      "2  Ellen  Biology   2020-03-01\n",
      "3   John     Math   2019-03-01\n",
      "4    Kat  Physics   2017-09-01\n"
     ]
    }
   ],
   "source": [
    "students5_df = pd.DataFrame({\n",
    "    'Name': ['Ann', 'Dan', 'Ellen', 'John', 'Kat'],\n",
    "    'Field': ['Math', 'Physics', 'Biology', 'Math', 'Physics'],\n",
    "    'Course start': ['2019-09-01', '2018-03-01', '2020-03-01', '2019-03-01', '2017-09-01']\n",
    "})\n",
    "\n",
    "print(students5_df)"
   ]
  },
  {
   "cell_type": "code",
   "execution_count": 18,
   "id": "6b4b528f-2958-4ab5-817d-d46d348bbf9b",
   "metadata": {},
   "outputs": [],
   "source": [
    "from datetime import timedelta"
   ]
  },
  {
   "cell_type": "code",
   "execution_count": null,
   "id": "382b2504-eb66-44ec-9f0c-e93c68b1db0c",
   "metadata": {},
   "outputs": [],
   "source": [
    "students5_df['Course start'] = pd.to_datetime(students5_df['Course start'])\n",
    "students5_df['Course end'] = students5_df['Course start'] + timedelta(days=round(3.75*365))\n",
    "\n",
    "print(students5_df)"
   ]
  },
  {
   "cell_type": "markdown",
   "id": "f48374c0-77ef-46e8-86ea-c1ae78cfb097",
   "metadata": {},
   "source": [
    "# concat"
   ]
  },
  {
   "cell_type": "code",
   "execution_count": 28,
   "id": "1073d873-6bcb-4aca-9535-69997e83ab0c",
   "metadata": {},
   "outputs": [
    {
     "name": "stdout",
     "output_type": "stream",
     "text": [
      "       Name    Field Group  Average score\n",
      "am19    Ann     Math   M19             92\n",
      "bp18    Dan  Physics   P18             65\n",
      "ob20  Ellen  Biology   B20             74\n",
      "im19   John     Math   M19             83\n",
      "kp17    Kat  Physics   P17             91\n",
      "\n",
      "          Name             Field Group  Average score\n",
      "eh19      Elon           History   H19             98\n",
      "im18     Irene              Math   M18             72\n",
      "mcs20   Margie  Computer Science  CS20             81\n",
      "scs19  Stephen  Computer Science  CS19             78\n"
     ]
    }
   ],
   "source": [
    "students1 = pd.DataFrame({'Name': ['Ann', 'Dan', 'Ellen', 'John', 'Kat'],\n",
    "                          'Field': ['Math', 'Physics', 'Biology', 'Math', 'Physics'],\n",
    "                          'Group': ['M19', 'P18', 'B20', 'M19', 'P17'],\n",
    "                          'Average score': [92, 65, 74, 83, 91]},\n",
    "                         index=['am19', 'bp18', 'ob20', 'im19', 'kp17']\n",
    ")\n",
    "\n",
    "print(students1, end='\\n\\n')\n",
    "\n",
    "students2 = pd.DataFrame({'Name': ['Elon', 'Irene', 'Margie', 'Stephen',],\n",
    "                          'Field': ['History', 'Math', 'Computer Science', 'Computer Science'],\n",
    "                          'Group': ['H19', 'M18', 'CS20', 'CS19'],\n",
    "                          'Average score': [98, 72, 81, 78]},\n",
    "                         index=['eh19', 'im18', 'mcs20', 'scs19']\n",
    ")\n",
    "\n",
    "print(students2)"
   ]
  },
  {
   "cell_type": "code",
   "execution_count": 29,
   "id": "8e59565a-c4a2-46a5-b8b8-be5c211de4e1",
   "metadata": {},
   "outputs": [
    {
     "name": "stdout",
     "output_type": "stream",
     "text": [
      "          Name             Field Group  Average score\n",
      "am19       Ann              Math   M19             92\n",
      "bp18       Dan           Physics   P18             65\n",
      "ob20     Ellen           Biology   B20             74\n",
      "im19      John              Math   M19             83\n",
      "kp17       Kat           Physics   P17             91\n",
      "eh19      Elon           History   H19             98\n",
      "im18     Irene              Math   M18             72\n",
      "mcs20   Margie  Computer Science  CS20             81\n",
      "scs19  Stephen  Computer Science  CS19             78\n"
     ]
    }
   ],
   "source": [
    "concatenated = pd.concat([students1, students2], join = 'inner')\n",
    "print(concatenated)"
   ]
  },
  {
   "cell_type": "markdown",
   "id": "a985e11a-e1e8-462c-aeaf-78b522a53bab",
   "metadata": {},
   "source": [
    "# merge"
   ]
  },
  {
   "cell_type": "code",
   "execution_count": 30,
   "id": "8ac79ab5-611e-4a02-9836-47244433d922",
   "metadata": {},
   "outputs": [
    {
     "name": "stdout",
     "output_type": "stream",
     "text": [
      "       Name    Field Group\n",
      "am19    Ann     Math   M19\n",
      "bp18    Dan  Physics   P18\n",
      "ob20  Ellen  Biology   B20\n",
      "im19   John     Math   M19\n",
      "kp17    Kat  Physics   P17\n",
      "\n",
      "    Name  Physics  Math  Biology  Chemistry\n",
      "0    Ann     99.0    78      NaN        NaN\n",
      "1  Ellen      NaN    68     87.0       73.0\n",
      "2   John      NaN    91      NaN        NaN\n",
      "3    Kat     87.0    89      NaN        NaN\n",
      "\n",
      "    Name    Field Group  Physics  Math  Biology  Chemistry\n",
      "0    Ann     Math   M19     99.0  78.0      NaN        NaN\n",
      "1    Dan  Physics   P18      NaN   NaN      NaN        NaN\n",
      "2  Ellen  Biology   B20      NaN  68.0     87.0       73.0\n",
      "3   John     Math   M19      NaN  91.0      NaN        NaN\n",
      "4    Kat  Physics   P17     87.0  89.0      NaN        NaN\n"
     ]
    }
   ],
   "source": [
    "studentz = pd.DataFrame({'Name': ['Ann', 'Dan', 'Ellen', 'John', 'Kat'],\n",
    "                          'Field': ['Math', 'Physics', 'Biology', 'Math', 'Physics'],\n",
    "                          'Group': ['M19', 'P18', 'B20', 'M19', 'P17']},\n",
    "                         index=['am19', 'bp18', 'ob20', 'im19', 'kp17']\n",
    ")\n",
    "\n",
    "print(studentz, end='\\n\\n')\n",
    "\n",
    "gradez = pd.DataFrame({'Name': ['Ann', 'Ellen', 'John', 'Kat'],\n",
    "                       'Physics': [99, None, None, 87],\n",
    "                       'Math': [78, 68, 91, 89],\n",
    "                       'Biology': [None, 87, None, None],\n",
    "                       'Chemistry': [None, 73, None, None]})\n",
    "\n",
    "print(gradez, end='\\n\\n')\n",
    "\n",
    "merged = pd.merge(left=studentz,\n",
    "                  right=gradez,\n",
    "                  on='Name',\n",
    "                  how='outer')\n",
    "\n",
    "print(merged)"
   ]
  },
  {
   "cell_type": "markdown",
   "id": "75836bfc-5b61-4b72-940a-75d57c598974",
   "metadata": {},
   "source": [
    "# join"
   ]
  },
  {
   "cell_type": "code",
   "execution_count": 31,
   "id": "55187f7c-004f-4207-9d08-f3c9360f05e2",
   "metadata": {},
   "outputs": [
    {
     "name": "stdout",
     "output_type": "stream",
     "text": [
      "       Name    Field Group\n",
      "am19    Ann     Math   M19\n",
      "bp18    Dan  Physics   P18\n",
      "ob20  Ellen  Biology   B20\n",
      "im19   John     Math   M19\n",
      "kp17    Kat  Physics   P17\n",
      "\n",
      "       Physics  Math  Biology  Chemistry\n",
      "Name                                    \n",
      "Ann       99.0    78      NaN        NaN\n",
      "Ellen      NaN    68     87.0       73.0\n",
      "John       NaN    91      NaN        NaN\n",
      "Kat       87.0    89      NaN        NaN\n",
      "\n",
      "       Name    Field Group  Physics  Math  Biology  Chemistry\n",
      "am19    Ann     Math   M19     99.0  78.0      NaN        NaN\n",
      "bp18    Dan  Physics   P18      NaN   NaN      NaN        NaN\n",
      "ob20  Ellen  Biology   B20      NaN  68.0     87.0       73.0\n",
      "im19   John     Math   M19      NaN  91.0      NaN        NaN\n",
      "kp17    Kat  Physics   P17     87.0  89.0      NaN        NaN\n"
     ]
    }
   ],
   "source": [
    "students6 = pd.DataFrame({'Name': ['Ann', 'Dan', 'Ellen', 'John', 'Kat'],\n",
    "                          'Field': ['Math', 'Physics', 'Biology', 'Math', 'Physics'],\n",
    "                          'Group': ['M19', 'P18', 'B20', 'M19', 'P17']},\n",
    "                         index=['am19', 'bp18', 'ob20', 'im19', 'kp17']\n",
    ")\n",
    "\n",
    "print(students6, end='\\n\\n')\n",
    "\n",
    "grades6 = pd.DataFrame({'Physics': [99, None, None, 87],\n",
    "                       'Math': [78, 68, 91, 89],\n",
    "                       'Biology': [None, 87, None, None],\n",
    "                       'Chemistry': [None, 73, None, None]},\n",
    "                     index=pd.Series(['Ann', 'Ellen', 'John', 'Kat'], name='Name'))\n",
    "\n",
    "print(grades6, end='\\n\\n')\n",
    "\n",
    "joined = students6.join(grades6,\n",
    "                      on='Name')\n",
    "\n",
    "print(joined)"
   ]
  },
  {
   "cell_type": "markdown",
   "id": "c0248296-3209-4a91-962e-8a7cc0cd9ef1",
   "metadata": {},
   "source": [
    "# apply"
   ]
  },
  {
   "cell_type": "code",
   "execution_count": 32,
   "id": "491ebf87-c7b9-4ea6-9e89-496ad1fb10c3",
   "metadata": {},
   "outputs": [],
   "source": [
    "dataw = {\n",
    "    'Data': ['2023-08-01', '2023-08-02', '2023-08-03'],\n",
    "    'Temperature C': [25, 28, 24]\n",
    "}\n",
    "\n",
    "weather_df = pd.DataFrame(dataw)"
   ]
  },
  {
   "cell_type": "code",
   "execution_count": 33,
   "id": "5e47bc6e-3a9c-4d3c-b7d1-5963f20a9021",
   "metadata": {},
   "outputs": [
    {
     "name": "stdout",
     "output_type": "stream",
     "text": [
      "         Data  Temperature C  Temperature F\n",
      "0  2023-08-01             25           77.0\n",
      "1  2023-08-02             28           82.4\n",
      "2  2023-08-03             24           75.2\n"
     ]
    }
   ],
   "source": [
    "weather_df['Temperature F'] = weather_df['Temperature C'].apply(lambda temp: (temp * 9/5) + 32)\n",
    "print(weather_df)"
   ]
  },
  {
   "cell_type": "code",
   "execution_count": 34,
   "id": "315f74f9-a7fe-4f67-9872-a081a567e36b",
   "metadata": {},
   "outputs": [
    {
     "name": "stdout",
     "output_type": "stream",
     "text": [
      "       Product  Price  Discount  Final Price\n",
      "0    iPhone 13    699      0.10       629.10\n",
      "1  MacBook Pro   1299      0.05      1234.05\n",
      "2  Apple Watch    399      0.15       339.15\n"
     ]
    }
   ],
   "source": [
    "datai = {\n",
    "    'Product': ['iPhone 13', 'MacBook Pro', 'Apple Watch'],\n",
    "    'Price': [699, 1299, 399],\n",
    "    'Discount': [0.1, 0.05, 0.15]\n",
    "}\n",
    "\n",
    "dfi = pd.DataFrame(datai)\n",
    "\n",
    "dfi['Final Price'] = dfi.apply(lambda row: row['Price'] * (1 - row['Discount']), axis=1)\n",
    "\n",
    "print(dfi)"
   ]
  },
  {
   "cell_type": "markdown",
   "id": "cb27c5ab-196a-4892-9405-96139e3c7f8d",
   "metadata": {},
   "source": [
    "# map"
   ]
  },
  {
   "cell_type": "code",
   "execution_count": 36,
   "id": "e9b8de42-5483-4560-afa7-d5d3cca99030",
   "metadata": {},
   "outputs": [
    {
     "name": "stdout",
     "output_type": "stream",
     "text": [
      "                      Price  Second hand price\n",
      "Model                                         \n",
      "iPhone X            10800.0             9900.0\n",
      "iPhone 12           14400.0            11700.0\n",
      "iPhone 14           26100.0            18000.0\n",
      "Samsung Galaxy S23  36000.0            31500.0\n",
      "Samsung Galaxy S22  23400.0            19800.0\n"
     ]
    }
   ],
   "source": [
    "phones = pd.DataFrame({'Price': [12000, 16000, 29000, 40000, 26000],\n",
    "                       'Second hand price': [11000, 13000, 20000, 35000, 22000]},\n",
    "                      index=pd.Series(['iPhone X', 'iPhone 12', 'iPhone 14', 'Samsung Galaxy S23',\n",
    "                                       'Samsung Galaxy S22'], name='Model'))\n",
    "phones_discounted = phones.map(lambda price: price * 0.9)\n",
    "\n",
    "print(phones_discounted)"
   ]
  },
  {
   "cell_type": "markdown",
   "id": "285e8d78-6874-45d9-81bb-f5395f1248f3",
   "metadata": {},
   "source": [
    "# numpy.where"
   ]
  },
  {
   "cell_type": "code",
   "execution_count": 37,
   "id": "a34dab49-a7e9-4f3e-bded-a5faaba024cc",
   "metadata": {},
   "outputs": [
    {
     "name": "stdout",
     "output_type": "stream",
     "text": [
      "                Model  Year  Price\n",
      "0            iPhone X  2017  12000\n",
      "1           iPhone 12  2020  16000\n",
      "2           iPhone 14  2022  29000\n",
      "3  Samsung Galaxy S23  2023  40000\n",
      "4  Samsung Galaxy S22  2022  26000\n"
     ]
    }
   ],
   "source": [
    "phones1 = pd.DataFrame({\n",
    "    'Model': ['iPhone X', 'iPhone 12', 'iPhone 14', 'Samsung Galaxy S23', 'Samsung Galaxy S22'],\n",
    "    'Year': [2017, 2020, 2022, 2023, 2022],\n",
    "    'Price': [12000, 16000, 29000, 40000, 26000]\n",
    "})\n",
    "\n",
    "print(phones1)"
   ]
  },
  {
   "cell_type": "code",
   "execution_count": 38,
   "id": "f89df61c-195f-47df-8bb4-ba6abea766ab",
   "metadata": {},
   "outputs": [
    {
     "data": {
      "text/plain": [
       "array([ 9600., 12800., 29000., 40000., 26000.])"
      ]
     },
     "execution_count": 38,
     "metadata": {},
     "output_type": "execute_result"
    }
   ],
   "source": [
    "from numpy import where\n",
    "\n",
    "where(phones1['Year'] < 2022,\n",
    "      phones1['Price']*0.8,\n",
    "      phones1['Price'])"
   ]
  },
  {
   "cell_type": "code",
   "execution_count": 39,
   "id": "6df39b1f-bc3e-4845-87e4-110998af1857",
   "metadata": {},
   "outputs": [],
   "source": [
    "phones1['Promo price'] = where(phones1['Year'] < 2022,\n",
    "                               phones1['Price']*0.8,\n",
    "                               phones1['Price'])"
   ]
  },
  {
   "cell_type": "code",
   "execution_count": 40,
   "id": "8b0d028b-e6f7-49e5-8b8b-1bdb31eecb0b",
   "metadata": {},
   "outputs": [
    {
     "name": "stdout",
     "output_type": "stream",
     "text": [
      "                Model  Year  Price  Promo price\n",
      "0            iPhone X  2017  12000       9600.0\n",
      "1           iPhone 12  2020  16000      12800.0\n",
      "2           iPhone 14  2022  29000      29000.0\n",
      "3  Samsung Galaxy S23  2023  40000      40000.0\n",
      "4  Samsung Galaxy S22  2022  26000      26000.0\n"
     ]
    }
   ],
   "source": [
    "print(phones1)"
   ]
  }
 ],
 "metadata": {
  "kernelspec": {
   "display_name": "Python 3 (ipykernel)",
   "language": "python",
   "name": "python3"
  },
  "language_info": {
   "codemirror_mode": {
    "name": "ipython",
    "version": 3
   },
   "file_extension": ".py",
   "mimetype": "text/x-python",
   "name": "python",
   "nbconvert_exporter": "python",
   "pygments_lexer": "ipython3",
   "version": "3.11.7"
  }
 },
 "nbformat": 4,
 "nbformat_minor": 5
}
